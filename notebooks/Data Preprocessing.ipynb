{
 "cells": [
  {
   "cell_type": "code",
   "execution_count": 1,
   "id": "f07409b3",
   "metadata": {},
   "outputs": [],
   "source": [
    "import pandas as pd"
   ]
  },
  {
   "cell_type": "code",
   "execution_count": 2,
   "id": "491e9297",
   "metadata": {},
   "outputs": [
    {
     "name": "stdout",
     "output_type": "stream",
     "text": [
      "/home/anna/PycharmProjects/DataJournalismApp\n"
     ]
    }
   ],
   "source": [
    "cd ../"
   ]
  },
  {
   "cell_type": "code",
   "execution_count": 3,
   "id": "afc67c58",
   "metadata": {},
   "outputs": [],
   "source": [
    "import util.data_preprocessing as dp\n",
    "import util.keywords_extraction as ke\n",
    "import util.topic_extraction as te\n",
    "import util.ner_finder as nf"
   ]
  },
  {
   "cell_type": "markdown",
   "id": "2c5a0d00",
   "metadata": {},
   "source": [
    "# Load and preprocess data"
   ]
  },
  {
   "cell_type": "code",
   "execution_count": 90,
   "id": "696cd743",
   "metadata": {},
   "outputs": [
    {
     "data": {
      "text/html": [
       "<div>\n",
       "<style scoped>\n",
       "    .dataframe tbody tr th:only-of-type {\n",
       "        vertical-align: middle;\n",
       "    }\n",
       "\n",
       "    .dataframe tbody tr th {\n",
       "        vertical-align: top;\n",
       "    }\n",
       "\n",
       "    .dataframe thead th {\n",
       "        text-align: right;\n",
       "    }\n",
       "</style>\n",
       "<table border=\"1\" class=\"dataframe\">\n",
       "  <thead>\n",
       "    <tr style=\"text-align: right;\">\n",
       "      <th></th>\n",
       "      <th>tags</th>\n",
       "      <th>text</th>\n",
       "      <th>title</th>\n",
       "      <th>topic</th>\n",
       "      <th>url</th>\n",
       "    </tr>\n",
       "  </thead>\n",
       "  <tbody>\n",
       "    <tr>\n",
       "      <th>0</th>\n",
       "      <td>Общество</td>\n",
       "      <td>Миллиардер Илон Маск в резкой форме ответил бр...</td>\n",
       "      <td>Илон Маск назвал педофилом спасавшего детей из...</td>\n",
       "      <td>Мир</td>\n",
       "      <td>https://lenta.ru/news/2018/07/16/su57/</td>\n",
       "    </tr>\n",
       "    <tr>\n",
       "      <th>1</th>\n",
       "      <td>Рынки</td>\n",
       "      <td>США и их западные союзники рассматривают возмо...</td>\n",
       "      <td>США задумались о распечатывании нефтяного резерва</td>\n",
       "      <td>Экономика</td>\n",
       "      <td>https://lenta.ru/news/2018/07/16/foes/</td>\n",
       "    </tr>\n",
       "    <tr>\n",
       "      <th>2</th>\n",
       "      <td>Преступность</td>\n",
       "      <td>Празднование победы сборной Франции на чемпион...</td>\n",
       "      <td>Празднование победы на ЧМ во Франции закончило...</td>\n",
       "      <td>Мир</td>\n",
       "      <td>https://lenta.ru/news/2018/07/15/fra_bezumie/</td>\n",
       "    </tr>\n",
       "    <tr>\n",
       "      <th>3</th>\n",
       "      <td>Политика</td>\n",
       "      <td>География использования лимузинов проекта «Кор...</td>\n",
       "      <td>Песков рассказал о планах на президентские лим...</td>\n",
       "      <td>Россия</td>\n",
       "      <td>https://lenta.ru/news/2018/07/16/delo_shyut/</td>\n",
       "    </tr>\n",
       "    <tr>\n",
       "      <th>4</th>\n",
       "      <td>Музыка</td>\n",
       "      <td>Американская поп-певица Бритни Спирс случайно ...</td>\n",
       "      <td>Грудь Бритни Спирс вновь выскочила из лифчика ...</td>\n",
       "      <td>Культура</td>\n",
       "      <td>https://lenta.ru/news/2018/07/16/pedomusk/</td>\n",
       "    </tr>\n",
       "  </tbody>\n",
       "</table>\n",
       "</div>"
      ],
      "text/plain": [
       "           tags                                               text  \\\n",
       "0      Общество  Миллиардер Илон Маск в резкой форме ответил бр...   \n",
       "1         Рынки  США и их западные союзники рассматривают возмо...   \n",
       "2  Преступность  Празднование победы сборной Франции на чемпион...   \n",
       "3      Политика  География использования лимузинов проекта «Кор...   \n",
       "4        Музыка  Американская поп-певица Бритни Спирс случайно ...   \n",
       "\n",
       "                                               title      topic  \\\n",
       "0  Илон Маск назвал педофилом спасавшего детей из...        Мир   \n",
       "1  США задумались о распечатывании нефтяного резерва  Экономика   \n",
       "2  Празднование победы на ЧМ во Франции закончило...        Мир   \n",
       "3  Песков рассказал о планах на президентские лим...     Россия   \n",
       "4  Грудь Бритни Спирс вновь выскочила из лифчика ...   Культура   \n",
       "\n",
       "                                             url  \n",
       "0         https://lenta.ru/news/2018/07/16/su57/  \n",
       "1         https://lenta.ru/news/2018/07/16/foes/  \n",
       "2  https://lenta.ru/news/2018/07/15/fra_bezumie/  \n",
       "3   https://lenta.ru/news/2018/07/16/delo_shyut/  \n",
       "4     https://lenta.ru/news/2018/07/16/pedomusk/  "
      ]
     },
     "execution_count": 90,
     "metadata": {},
     "output_type": "execute_result"
    }
   ],
   "source": [
    "# data = pd.read_csv(\"data/raw_data/news33.csv\", sep=\";\")\n",
    "# data[\"topic\"] = data[\"rubric\"].apply(lambda t: t.split(\", \")[-1].split(\" \")[0])\n",
    "\n",
    "# data = pd.read_csv(\"data/raw_data/news2020.csv\")\n",
    "# data.drop([\"subrubric\", \"tags\"], axis=1, inplace=True)\n",
    "\n",
    "data = pd.read_csv(\"data/raw_data/news_lenta_99-19.csv\")\n",
    "\n",
    "data.head()"
   ]
  },
  {
   "cell_type": "code",
   "execution_count": 91,
   "id": "8dcb3475",
   "metadata": {},
   "outputs": [
    {
     "data": {
      "text/html": [
       "<div>\n",
       "<style scoped>\n",
       "    .dataframe tbody tr th:only-of-type {\n",
       "        vertical-align: middle;\n",
       "    }\n",
       "\n",
       "    .dataframe tbody tr th {\n",
       "        vertical-align: top;\n",
       "    }\n",
       "\n",
       "    .dataframe thead th {\n",
       "        text-align: right;\n",
       "    }\n",
       "</style>\n",
       "<table border=\"1\" class=\"dataframe\">\n",
       "  <thead>\n",
       "    <tr style=\"text-align: right;\">\n",
       "      <th></th>\n",
       "      <th>text</th>\n",
       "      <th>title</th>\n",
       "      <th>topic</th>\n",
       "      <th>date</th>\n",
       "    </tr>\n",
       "  </thead>\n",
       "  <tbody>\n",
       "    <tr>\n",
       "      <th>0</th>\n",
       "      <td>Миллиардер Илон Маск в резкой форме ответил бр...</td>\n",
       "      <td>Илон Маск назвал педофилом спасавшего детей из...</td>\n",
       "      <td>Мир</td>\n",
       "      <td>2018-07-16</td>\n",
       "    </tr>\n",
       "    <tr>\n",
       "      <th>1</th>\n",
       "      <td>США и их западные союзники рассматривают возмо...</td>\n",
       "      <td>США задумались о распечатывании нефтяного резерва</td>\n",
       "      <td>Экономика</td>\n",
       "      <td>2018-07-16</td>\n",
       "    </tr>\n",
       "    <tr>\n",
       "      <th>2</th>\n",
       "      <td>Празднование победы сборной Франции на чемпион...</td>\n",
       "      <td>Празднование победы на ЧМ во Франции закончило...</td>\n",
       "      <td>Мир</td>\n",
       "      <td>2018-07-15</td>\n",
       "    </tr>\n",
       "    <tr>\n",
       "      <th>3</th>\n",
       "      <td>География использования лимузинов проекта «Кор...</td>\n",
       "      <td>Песков рассказал о планах на президентские лим...</td>\n",
       "      <td>Россия</td>\n",
       "      <td>2018-07-16</td>\n",
       "    </tr>\n",
       "    <tr>\n",
       "      <th>4</th>\n",
       "      <td>Американская поп-певица Бритни Спирс случайно ...</td>\n",
       "      <td>Грудь Бритни Спирс вновь выскочила из лифчика ...</td>\n",
       "      <td>Культура</td>\n",
       "      <td>2018-07-16</td>\n",
       "    </tr>\n",
       "  </tbody>\n",
       "</table>\n",
       "</div>"
      ],
      "text/plain": [
       "                                                text  \\\n",
       "0  Миллиардер Илон Маск в резкой форме ответил бр...   \n",
       "1  США и их западные союзники рассматривают возмо...   \n",
       "2  Празднование победы сборной Франции на чемпион...   \n",
       "3  География использования лимузинов проекта «Кор...   \n",
       "4  Американская поп-певица Бритни Спирс случайно ...   \n",
       "\n",
       "                                               title      topic       date  \n",
       "0  Илон Маск назвал педофилом спасавшего детей из...        Мир 2018-07-16  \n",
       "1  США задумались о распечатывании нефтяного резерва  Экономика 2018-07-16  \n",
       "2  Празднование победы на ЧМ во Франции закончило...        Мир 2018-07-15  \n",
       "3  Песков рассказал о планах на президентские лим...     Россия 2018-07-16  \n",
       "4  Грудь Бритни Спирс вновь выскочила из лифчика ...   Культура 2018-07-16  "
      ]
     },
     "execution_count": 91,
     "metadata": {},
     "output_type": "execute_result"
    }
   ],
   "source": [
    "# lenta 99-18\n",
    "\n",
    "data[\"date\"] = pd.to_datetime(data[\"url\"].apply(lambda x: \".\".join(x.split(\"/\")[4:7])))\n",
    "data.drop([\"tags\", \"url\"], axis=1, inplace=True)\n",
    "data = data[data[\"date\"] >= pd.to_datetime(\"2015.01.01\")]\n",
    "data.reset_index(drop=True, inplace=True)\n",
    "data.head()"
   ]
  },
  {
   "cell_type": "code",
   "execution_count": 59,
   "id": "d635336d",
   "metadata": {},
   "outputs": [
    {
     "data": {
      "text/plain": [
       "array(['lenta.ru', 'meduza.io', 'ria.ru', 'tjournal.ru'], dtype=object)"
      ]
     },
     "execution_count": 59,
     "metadata": {},
     "output_type": "execute_result"
    }
   ],
   "source": [
    "# news2020\n",
    "\n",
    "data[\"source\"].unique()\n",
    "\n",
    "lenta_data = data[data[\"source\"] == 'lenta.ru']\n",
    "lenta_data[\"date\"] = pd.to_datetime(lenta_data[\"publication_date\"]).values\n",
    "\n",
    "ria_data = data[data[\"source\"] == 'ria.ru']\n",
    "ria_data[\"date\"] = pd.to_datetime(ria_data[\"publication_date\"].apply(lambda x: \" \".join(x.split(\" \")[:2]))).values\n",
    "\n",
    "name_to_num = {\"янв\": \"01\", \"фев\": \"02\", \"мар\": \"03\", \"апр\": \"04\", \"мая\": \"05\", \"июн\": \"06\", \n",
    "               \"июл\": \"07\", \"авг\": \"08\", \"сен\": \"09\", \"окт\": \"10\", \"ноя\": \"11\", \"дек\": \"12\"}\n",
    "meduza_data = data[data[\"source\"] == 'meduza.io']\n",
    "meduza_data[\"date\"] = meduza_data[\"publication_date\"].apply(lambda x: x.split(\", \")[1].split(\" \"))\n",
    "meduza_data[\"date\"] = meduza_data[\"date\"].apply(lambda x: \".\".join([x[0], name_to_num[x[1][:3]], x[2]]))\n"
   ]
  },
  {
   "cell_type": "code",
   "execution_count": 78,
   "id": "9abfb3b5",
   "metadata": {},
   "outputs": [
    {
     "name": "stderr",
     "output_type": "stream",
     "text": [
      "/home/anna/anaconda3/envs/journalism_env/lib/python3.7/site-packages/ipykernel_launcher.py:2: SettingWithCopyWarning: \n",
      "A value is trying to be set on a copy of a slice from a DataFrame.\n",
      "Try using .loc[row_indexer,col_indexer] = value instead\n",
      "\n",
      "See the caveats in the documentation: http://pandas.pydata.org/pandas-docs/stable/user_guide/indexing.html#returning-a-view-versus-a-copy\n",
      "  \n"
     ]
    },
    {
     "data": {
      "text/html": [
       "<div>\n",
       "<style scoped>\n",
       "    .dataframe tbody tr th:only-of-type {\n",
       "        vertical-align: middle;\n",
       "    }\n",
       "\n",
       "    .dataframe tbody tr th {\n",
       "        vertical-align: top;\n",
       "    }\n",
       "\n",
       "    .dataframe thead th {\n",
       "        text-align: right;\n",
       "    }\n",
       "</style>\n",
       "<table border=\"1\" class=\"dataframe\">\n",
       "  <thead>\n",
       "    <tr style=\"text-align: right;\">\n",
       "      <th></th>\n",
       "      <th>source</th>\n",
       "      <th>title</th>\n",
       "      <th>text</th>\n",
       "      <th>publication_date</th>\n",
       "      <th>rubric</th>\n",
       "      <th>_time</th>\n",
       "    </tr>\n",
       "  </thead>\n",
       "  <tbody>\n",
       "    <tr>\n",
       "      <th>20803</th>\n",
       "      <td>tjournal.ru</td>\n",
       "      <td>\\n                            ФБК показал филь...</td>\n",
       "      <td>\\n\\n    \\n    \\n        \\n        \\n        \\n...</td>\n",
       "      <td>1598875929</td>\n",
       "      <td>NaN</td>\n",
       "      <td>1598875929</td>\n",
       "    </tr>\n",
       "    <tr>\n",
       "      <th>20804</th>\n",
       "      <td>tjournal.ru</td>\n",
       "      <td>\\n                            На улицах Минска...</td>\n",
       "      <td>\\n\\n    \\n    \\n        \\n        \\n        \\n...</td>\n",
       "      <td>1598795150</td>\n",
       "      <td>NaN</td>\n",
       "      <td>1598795150</td>\n",
       "    </tr>\n",
       "    <tr>\n",
       "      <th>20805</th>\n",
       "      <td>tjournal.ru</td>\n",
       "      <td>\\n                            В Черногории про...</td>\n",
       "      <td>\\n\\n    \\n    \\n        \\n        \\n        \\n...</td>\n",
       "      <td>1598821788</td>\n",
       "      <td>NaN</td>\n",
       "      <td>1598821788</td>\n",
       "    </tr>\n",
       "    <tr>\n",
       "      <th>20806</th>\n",
       "      <td>tjournal.ru</td>\n",
       "      <td>\\n                            Путин и Лукашенк...</td>\n",
       "      <td>\\n\\n    \\n    \\n        \\n        \\n        \\n...</td>\n",
       "      <td>1598784941</td>\n",
       "      <td>NaN</td>\n",
       "      <td>1598784941</td>\n",
       "    </tr>\n",
       "    <tr>\n",
       "      <th>20807</th>\n",
       "      <td>tjournal.ru</td>\n",
       "      <td>\\n                            МВД Белоруссии з...</td>\n",
       "      <td>\\n\\n    \\n    \\n        \\n        \\n        \\n...</td>\n",
       "      <td>1598801069</td>\n",
       "      <td>NaN</td>\n",
       "      <td>1598801069</td>\n",
       "    </tr>\n",
       "  </tbody>\n",
       "</table>\n",
       "</div>"
      ],
      "text/plain": [
       "            source                                              title  \\\n",
       "20803  tjournal.ru  \\n                            ФБК показал филь...   \n",
       "20804  tjournal.ru  \\n                            На улицах Минска...   \n",
       "20805  tjournal.ru  \\n                            В Черногории про...   \n",
       "20806  tjournal.ru  \\n                            Путин и Лукашенк...   \n",
       "20807  tjournal.ru  \\n                            МВД Белоруссии з...   \n",
       "\n",
       "                                                    text publication_date  \\\n",
       "20803  \\n\\n    \\n    \\n        \\n        \\n        \\n...       1598875929   \n",
       "20804  \\n\\n    \\n    \\n        \\n        \\n        \\n...       1598795150   \n",
       "20805  \\n\\n    \\n    \\n        \\n        \\n        \\n...       1598821788   \n",
       "20806  \\n\\n    \\n    \\n        \\n        \\n        \\n...       1598784941   \n",
       "20807  \\n\\n    \\n    \\n        \\n        \\n        \\n...       1598801069   \n",
       "\n",
       "      rubric       _time  \n",
       "20803    NaN  1598875929  \n",
       "20804    NaN  1598795150  \n",
       "20805    NaN  1598821788  \n",
       "20806    NaN  1598784941  \n",
       "20807    NaN  1598801069  "
      ]
     },
     "execution_count": 78,
     "metadata": {},
     "output_type": "execute_result"
    }
   ],
   "source": [
    "tjournal_data = data[data[\"source\"] == 'tjournal.ru']\n",
    "tjournal_data[\"_time\"] = tjournal_data[\"publication_date\"].astype(\"int64\")\n",
    "tjournal_data.head()"
   ]
  },
  {
   "cell_type": "code",
   "execution_count": 76,
   "id": "18069f92",
   "metadata": {},
   "outputs": [
    {
     "data": {
      "text/plain": [
       "'\\n\\n    \\n    \\n        \\n        \\n        \\n             \\n    \\n         Это первый ролик из фильмов-расследований о региональной политике Сибири. Он посвящён Новосибирску. \\n     \\n\\n        \\n        \\n            \\n                                 \\n                                             \\n                        \\n \\n     \\n\\n         \\n\\n         \\n         104 \\n\\n        \\n             комментария \\n\\n             \\n \\n                    \\n                     \\n                    \\n \\n\\n     \\n    \\n             В закладки \\n    \\n     \\n \\n\\n                     \\n                                            \\n \\n          Слушать \\n \\n                    \\n                     \\n                    \\n \\n\\n     \\n\\n        \\n             \\n\\n                 \\n             \\n\\n        \\n             \\n\\n                 \\n             \\n\\n        \\n             \\n\\n                 \\n             \\n\\n        \\n             \\n\\n                 \\n             \\n\\n        \\n             \\n\\n                 \\n             \\n\\n        \\n             \\n\\n                 \\n             \\n\\n        \\n     \\n\\n     \\n\\n     \\n\\n                  \\n            \\n        \\n        \\n    \\n        \\n        \\n        \\n            \\n \\n\\n     \\n\\n         \\n\\n    \\n\\n \\n\\n     \\n\\n         \\n                         \\n \\n     \\n     \\n     \\n \\n         \\n\\n     \\n \\n\\n      \\n\\n    \\n \\n\\n        \\n        \\n            \\n        \\n        \\n    \\n        \\n        \\n        \\n             \\n    \\n         Фонд борьбы с коррупцией опубликовал фильм, который Алексей Навальный снимал перед госпитализацией с признаками отравления. Это первый ролик из фильмов-расследований о региональной политике Сибири. Он посвящён Новосибирску. \\n     \\n\\n        \\n        \\n            \\n        \\n        \\n    \\n        \\n        \\n        \\n             \\n    \\n         Навальный назвал своей задачей «освобождение столицы Сибири от оккупантов». Он имеет в виду выборы местных депутатов 13 сентября, куда выдвигаются поддерживаемые им кандидаты по стратегии «умного голосования».  \\n     \\n\\n        \\n        \\n            \\n        \\n        \\n    \\n        \\n        \\n        \\n            \\n \\n     \\n\\n         \\n             \\n                 \\n                 \\n                     Новосибирск — это город несостоявшийся русской мечты. Здесь есть всё для процветания. Сложись история немножко иначе, это была бы наша «Кремниевая долина». Очень хочется именно здесь побить тех, из-за кого эта мечта не сбылась.                  \\n\\n                \\n                     \\n\\n                        \\n                         \\n                                                             \\n                                    Алексей Навальный                                 \\n                            \\n                                                     \\n                     \\n\\n                             \\n\\n         \\n\\n     \\n \\n\\n        \\n        \\n            \\n        \\n        \\n    \\n        \\n        \\n        \\n             \\n    \\n         В Новосибирске 1,2 миллиона избирателей, которые могут выбирать кандидатов в городской совет. Навальный считает, что на выборы 13 сентября из них придут только 240 тысяч человек, которые выберут 50 депутатов. Навальный рассчитывает, что большинство избирателей воспользуется его «Умным голосованием», чтобы «Единая Россия» проиграла выборы. \\n     \\n\\n        \\n        \\n            \\n        \\n        \\n    \\n                                     \\n                     \\n                     \\n\\n                     \\n                     \\n\\n                                             \\n                         \\n                                     \\n                    \\n        \\n        \\n             \\n    \\n         В ролике Навальный рассказал в том числе про местное «русское гетто» — жилые комплексы, которые принадлежат депутатам от «Единой России». Застройщиком одного из них является единорос Алексей Джулай, который, по словам местных оппозиционеров, мешает им выдвигаться на выборы. Жители этого района рассказали, что в уже заселённом доме они по несколько лет ждут запусков лифтов, а застройщик даже не утеплил часть дома. Оппозиционеры также считают, что Джулай злоупотребляет своими полномочиями, так как использует статус депутата при строительстве домов. \\n     \\n\\n        \\n        \\n            \\n        \\n        \\n    \\n        \\n        \\n        \\n            \\n    \\n \\n\\n     \\n         \\n            \\n \\n\\n     \\n \\n         \\n     \\n\\n    \\n \\n\\n        \\n        \\n            \\n        \\n        \\n    \\n        \\n        \\n        \\n             \\n    \\n         Навальный рассказал, что городской совет Новосибирска «захвачен строительной мафией» — из 50 депутатов 18 работают в строительном комплексе, являются крупными застройщиками или их людьми. Основатель ФБК считает, что «шансов на нормальную жизнь» не будет, пока «не избавиться» от таких депутатов. Он призвал всех зрителей поделиться роликом с жителями Новосибирска, чтобы те зарегистрировались в «Умном голосовании». \\n     \\n\\n        \\n        \\n            \\n        \\n        \\n    \\n        \\n        \\n        \\n            \\n \\n     \\n\\n         \\n             \\n                 \\n                 \\n                     Строительная монополия захватила целую ветвь власти. Они пишут под себя законы, принимают их, принимают бюджет, строят, сами себя проверяют, сами себе выделяют деньги. Они «рулят» городом.                  \\n\\n                \\n                     \\n\\n                        \\n                         \\n                                                             \\n                                    Алексей Навальный                                 \\n                            \\n                                                             \\n                                    политик                                 \\n                                                     \\n                     \\n\\n                             \\n\\n         \\n\\n     \\n \\n\\n        \\n        \\n            \\n        \\n        \\n    \\n        \\n        \\n        \\n             \\n    \\n         Навальному  стало  плохо утром 20 августа во время полёта из Томска в Москву. Самолёт экстренно посадили в Омске, где политика госпитализировали в тяжёлом состоянии и подключили к аппарату искусственной вентиляции лёгких.  \\n     \\n\\n        \\n        \\n            \\n        \\n        \\n    \\n        \\n        \\n        \\n             \\n    \\n         22 августа Навального  доставили  в немецкую клинику, где считают, что оппозиционера отравили веществом из той же группы, что и «Новичок». Пресс-секретарь президента РФ Дмитрий Песков в ответ заявил, что в Кремле не понимают спешки с озвучиванием версии об отравлении Навального. \\n     \\n\\n        \\n        \\n            \\n        \\n        \\n    \\n        \\n        \\n        \\n             \\n    \\n         #новости    #навальный    #отравлениенавального    \\n     \\n\\n        \\n        \\n            \\n        \\n        \\n    \\n    \\n         \\n            \\n                     \\n\\n    \\n    \\n \\n\\n    \\n    \\n         \\n            \\n \\n     \\n         \\n             \\n                \\n              \\n\\n             \\n                 \\n                    Артём Мазанов                 \\n\\n                 \\n    PLUS\\n \\n\\n                                     \\n                        +128\\xa0819                     \\n                             \\n         \\n\\n                     \\n                \\n                \\n \\n\\n     \\n\\n                    \\n             \\n                                  Подписаться \\n             \\n\\n                    \\n             \\n                                  Подписан \\n             \\n\\n                    \\n             \\n                                  Отписаться \\n             \\n\\n        \\n     \\n\\n            \\n         \\n                      \\n    \\n              \\n             \\n\\n             \\n            И это не новость ИА «Панорама»         \\n     \\n         \\n\\n    \\n'"
      ]
     },
     "execution_count": 76,
     "metadata": {},
     "output_type": "execute_result"
    }
   ],
   "source": [
    "tjournal_data.loc[20803, \"text\"]"
   ]
  },
  {
   "cell_type": "code",
   "execution_count": 97,
   "id": "68db8aa2",
   "metadata": {},
   "outputs": [
    {
     "data": {
      "text/html": [
       "<div>\n",
       "<style scoped>\n",
       "    .dataframe tbody tr th:only-of-type {\n",
       "        vertical-align: middle;\n",
       "    }\n",
       "\n",
       "    .dataframe tbody tr th {\n",
       "        vertical-align: top;\n",
       "    }\n",
       "\n",
       "    .dataframe thead th {\n",
       "        text-align: right;\n",
       "    }\n",
       "</style>\n",
       "<table border=\"1\" class=\"dataframe\">\n",
       "  <thead>\n",
       "    <tr style=\"text-align: right;\">\n",
       "      <th></th>\n",
       "      <th>text</th>\n",
       "      <th>title</th>\n",
       "      <th>topic</th>\n",
       "      <th>date</th>\n",
       "      <th>source</th>\n",
       "      <th>_time</th>\n",
       "    </tr>\n",
       "  </thead>\n",
       "  <tbody>\n",
       "    <tr>\n",
       "      <th>0</th>\n",
       "      <td>Миллиардер Илон Маск в резкой форме ответил бр...</td>\n",
       "      <td>Илон Маск назвал педофилом спасавшего детей из...</td>\n",
       "      <td>Мир</td>\n",
       "      <td>2018-07-16</td>\n",
       "      <td>Lenta</td>\n",
       "      <td>1531699200</td>\n",
       "    </tr>\n",
       "    <tr>\n",
       "      <th>1</th>\n",
       "      <td>США и их западные союзники рассматривают возмо...</td>\n",
       "      <td>США задумались о распечатывании нефтяного резерва</td>\n",
       "      <td>Экономика</td>\n",
       "      <td>2018-07-16</td>\n",
       "      <td>Lenta</td>\n",
       "      <td>1531699200</td>\n",
       "    </tr>\n",
       "    <tr>\n",
       "      <th>2</th>\n",
       "      <td>Празднование победы сборной Франции на чемпион...</td>\n",
       "      <td>Празднование победы на ЧМ во Франции закончило...</td>\n",
       "      <td>Мир</td>\n",
       "      <td>2018-07-15</td>\n",
       "      <td>Lenta</td>\n",
       "      <td>1531612800</td>\n",
       "    </tr>\n",
       "    <tr>\n",
       "      <th>3</th>\n",
       "      <td>География использования лимузинов проекта Корт...</td>\n",
       "      <td>Песков рассказал о планах на президентские лим...</td>\n",
       "      <td>Россия</td>\n",
       "      <td>2018-07-16</td>\n",
       "      <td>Lenta</td>\n",
       "      <td>1531699200</td>\n",
       "    </tr>\n",
       "    <tr>\n",
       "      <th>4</th>\n",
       "      <td>Американская поп-певица Бритни Спирс случайно ...</td>\n",
       "      <td>Грудь Бритни Спирс вновь выскочила из лифчика ...</td>\n",
       "      <td>Культура</td>\n",
       "      <td>2018-07-16</td>\n",
       "      <td>Lenta</td>\n",
       "      <td>1531699200</td>\n",
       "    </tr>\n",
       "  </tbody>\n",
       "</table>\n",
       "</div>"
      ],
      "text/plain": [
       "                                                text  \\\n",
       "0  Миллиардер Илон Маск в резкой форме ответил бр...   \n",
       "1  США и их западные союзники рассматривают возмо...   \n",
       "2  Празднование победы сборной Франции на чемпион...   \n",
       "3  География использования лимузинов проекта Корт...   \n",
       "4  Американская поп-певица Бритни Спирс случайно ...   \n",
       "\n",
       "                                               title      topic       date  \\\n",
       "0  Илон Маск назвал педофилом спасавшего детей из...        Мир 2018-07-16   \n",
       "1  США задумались о распечатывании нефтяного резерва  Экономика 2018-07-16   \n",
       "2  Празднование победы на ЧМ во Франции закончило...        Мир 2018-07-15   \n",
       "3  Песков рассказал о планах на президентские лим...     Россия 2018-07-16   \n",
       "4  Грудь Бритни Спирс вновь выскочила из лифчика ...   Культура 2018-07-16   \n",
       "\n",
       "  source       _time  \n",
       "0  Lenta  1531699200  \n",
       "1  Lenta  1531699200  \n",
       "2  Lenta  1531612800  \n",
       "3  Lenta  1531699200  \n",
       "4  Lenta  1531699200  "
      ]
     },
     "execution_count": 97,
     "metadata": {},
     "output_type": "execute_result"
    }
   ],
   "source": [
    "# preprocess text columns and add source and _time cols\n",
    "\n",
    "# data = dp.preprocess_data(data.drop([\"tags\"], axis=1), [\"title\", \"text\"], \"Новости 33\", time_col=\"date\")\n",
    "data = dp.preprocess_data(data, [\"title\", \"text\"], \"Lenta\", time_col=\"date\")\n",
    "\n",
    "data.head()"
   ]
  },
  {
   "cell_type": "code",
   "execution_count": 100,
   "id": "e224f08d",
   "metadata": {},
   "outputs": [],
   "source": [
    "data[\"art_ind\"] = data[\"date\"].astype(\"str\") + \": \" + data[\"title\"].apply(lambda x: x.replace(\"\\n\", \" \").replace(\"\\r\", \" \"))"
   ]
  },
  {
   "cell_type": "code",
   "execution_count": null,
   "id": "9da1cc9f",
   "metadata": {},
   "outputs": [],
   "source": [
    "# add existing kw and ne to news33 dataset, to save original text format\n",
    "\n",
    "\n",
    "# kw_ne = pd.read_csv(\"data/raw_data/news33_kw_ne.csv\", index_col=0)\n",
    "# kw_ne[\"art_ind\"] = kw_ne[\"date\"] + \": \" + kw_ne[\"title\"]\n",
    "\n",
    "# kw_ne.drop(\"text\", axis=1, inplace=True)\n",
    "# new_data = kw_ne.merge(data[[\"text\", \"art_ind\"]], on=\"art_ind\", how=\"inner\")\n",
    "# new_data.fillna(\"\", inplace=True)\n",
    "# new_data[\"text\"] = new_data[\"text\"].apply(lambda t: t.replace(\"\\n\", \"\\n\\r\"))\n",
    "# new_data.to_parquet(\"news33_processed\")"
   ]
  },
  {
   "cell_type": "markdown",
   "id": "4e4bb52b",
   "metadata": {},
   "source": [
    "# Find keywords"
   ]
  },
  {
   "cell_type": "code",
   "execution_count": null,
   "id": "32795fad",
   "metadata": {},
   "outputs": [],
   "source": [
    "corpus = data[\"text\"]\n",
    "all_text_keywords, vectorizer = ke.get_keywords(corpus)"
   ]
  },
  {
   "cell_type": "code",
   "execution_count": null,
   "id": "6ad92f99",
   "metadata": {},
   "outputs": [],
   "source": [
    "data[\"keywords\"] = all_text_keywords\n",
    "data.head()"
   ]
  },
  {
   "cell_type": "code",
   "execution_count": 18,
   "id": "0b57cc04",
   "metadata": {},
   "outputs": [
    {
     "data": {
      "text/plain": [
       "['фапах; фап; медицинский; пункт; район; деятельность; района; фапов; пункта; прокуратура',\n",
       " 'женщина; хрустальный; гусь; потерпевший; звонить; адвокаты; компенсация; звонок; неизвестный; кредит',\n",
       " 'жириновский; губернатор; сипягин; собрание; лдпр; владимир; областной; обещать; лидер; регион',\n",
       " 'теплов; составить; сетей; отопительный; м²; работа; подготовка; возле; вода; филиал',\n",
       " 'скорость; физика; света; поток; полупроводниковый; квантовый; вычислительный; создание; самый; информация',\n",
       " 'брат; старший; приговорить; строгий; признать; произойти; хотел; угар; телесный; судогде',\n",
       " 'совет; территорий; генплан; архитектор; проект; застройка; областной; культурный; объект; города',\n",
       " 'жириновский; региона; губернатор; владимир; торжество; телеграмма; сипягиным; предполагаться; правительственный; почтовый',\n",
       " 'проверка; дорожный; хрустальный; гусь; автомобильный; прокурорский; мошенничество; выявить; контракт; деревня',\n",
       " 'комбинат; тепличный; ленинский; крупный; виктор; приговор; размере; доход; взятка; взыскать']"
      ]
     },
     "execution_count": 18,
     "metadata": {},
     "output_type": "execute_result"
    }
   ],
   "source": [
    "#ke.get_keywords_preprocessed(data[\"text\"][:10], vectorizer)"
   ]
  },
  {
   "cell_type": "markdown",
   "id": "5ed1fc5f",
   "metadata": {},
   "source": [
    "# Find topics"
   ]
  },
  {
   "cell_type": "code",
   "execution_count": 20,
   "id": "423940a4",
   "metadata": {},
   "outputs": [],
   "source": [
    "topic_keywords, topics_pred, vectorizer, lda = te.get_topics(data[\"text\"].values, topics=5, n_keywords=5)"
   ]
  },
  {
   "cell_type": "code",
   "execution_count": 21,
   "id": "b60e4fa4",
   "metadata": {},
   "outputs": [
    {
     "data": {
      "text/plain": [
       "{0: ['владимирский', 'область', 'суд', 'владимир', 'дом'],\n",
       " 1: ['владимирский', 'владимир', 'житель', 'администрация', 'область'],\n",
       " 2: ['август', 'служба', 'владимирский', 'житель', 'дтп'],\n",
       " 3: ['свой', 'владимирский', 'убийство', 'суд', 'летний'],\n",
       " 4: ['владимирский', 'август', 'владимир', 'свой', 'рублей']}"
      ]
     },
     "execution_count": 21,
     "metadata": {},
     "output_type": "execute_result"
    }
   ],
   "source": [
    "topic_keywords"
   ]
  },
  {
   "cell_type": "code",
   "execution_count": 24,
   "id": "179b14b4",
   "metadata": {},
   "outputs": [],
   "source": [
    "topics = {0: \"суд\", 1: \"социум\", 2: \"дтп\", 3: \"убийство\", 4: \"август\"}"
   ]
  },
  {
   "cell_type": "code",
   "execution_count": 23,
   "id": "abc88bb5",
   "metadata": {},
   "outputs": [
    {
     "data": {
      "text/plain": [
       "array([4, 2, 1, 1, 3, 3, 4, 1, 0, 2, 2, 1, 1, 3, 2, 2, 4, 2, 1, 2, 2, 0,\n",
       "       4, 1, 3, 2, 1, 4, 4, 4, 1, 0, 1, 0, 1, 0, 0, 0, 2, 2, 0, 2, 0, 4,\n",
       "       3, 1, 4, 1, 0, 3, 1, 4, 4, 0, 0, 4, 0, 1, 1, 0, 1, 1, 2, 0, 1, 0,\n",
       "       0, 1, 4, 4, 4, 2, 1, 0, 0, 4, 1, 0, 0, 1, 2, 4, 4, 1, 4, 1, 4, 3,\n",
       "       2, 4, 1, 1, 0, 4, 4, 1, 1, 3, 4, 1])"
      ]
     },
     "execution_count": 23,
     "metadata": {},
     "output_type": "execute_result"
    }
   ],
   "source": [
    "topics_pred"
   ]
  },
  {
   "cell_type": "code",
   "execution_count": 26,
   "id": "6c59185e",
   "metadata": {},
   "outputs": [
    {
     "data": {
      "text/plain": [
       "array([4, 2, 1, 1, 3, 3, 4, 1, 0, 2])"
      ]
     },
     "execution_count": 26,
     "metadata": {},
     "output_type": "execute_result"
    }
   ],
   "source": [
    "te.get_topics_pretrained(data[\"text\"].values[:10], lda, vectorizer)"
   ]
  },
  {
   "cell_type": "code",
   "execution_count": 29,
   "id": "93850538",
   "metadata": {},
   "outputs": [
    {
     "data": {
      "text/html": [
       "<div>\n",
       "<style scoped>\n",
       "    .dataframe tbody tr th:only-of-type {\n",
       "        vertical-align: middle;\n",
       "    }\n",
       "\n",
       "    .dataframe tbody tr th {\n",
       "        vertical-align: top;\n",
       "    }\n",
       "\n",
       "    .dataframe thead th {\n",
       "        text-align: right;\n",
       "    }\n",
       "</style>\n",
       "<table border=\"1\" class=\"dataframe\">\n",
       "  <thead>\n",
       "    <tr style=\"text-align: right;\">\n",
       "      <th></th>\n",
       "      <th>date</th>\n",
       "      <th>rubric</th>\n",
       "      <th>title</th>\n",
       "      <th>text</th>\n",
       "      <th>_time</th>\n",
       "      <th>source</th>\n",
       "      <th>keywords</th>\n",
       "      <th>topic</th>\n",
       "    </tr>\n",
       "    <tr>\n",
       "      <th>index</th>\n",
       "      <th></th>\n",
       "      <th></th>\n",
       "      <th></th>\n",
       "      <th></th>\n",
       "      <th></th>\n",
       "      <th></th>\n",
       "      <th></th>\n",
       "      <th></th>\n",
       "    </tr>\n",
       "  </thead>\n",
       "  <tbody>\n",
       "    <tr>\n",
       "      <th>0</th>\n",
       "      <td>2019-08-17</td>\n",
       "      <td>Новости 33; Общество</td>\n",
       "      <td>Прокуратура обнаружила ФАПы-призраки в Суздаль...</td>\n",
       "      <td>Прокуратура обнаружила, что паспорт региональн...</td>\n",
       "      <td>1566000000</td>\n",
       "      <td>news33</td>\n",
       "      <td>фапах; фап; медицинский; пункт; район; деятель...</td>\n",
       "      <td>август</td>\n",
       "    </tr>\n",
       "    <tr>\n",
       "      <th>1</th>\n",
       "      <td>2019-08-17</td>\n",
       "      <td>Новости 33; Происшествия 33</td>\n",
       "      <td>В Гусь-Хрустальном женщина перевела мошенникам...</td>\n",
       "      <td>Следственный отдел полиции в Гусь-Хрустальном ...</td>\n",
       "      <td>1566000000</td>\n",
       "      <td>news33</td>\n",
       "      <td>женщина; хрустальный; гусь; потерпевший; звони...</td>\n",
       "      <td>дтп</td>\n",
       "    </tr>\n",
       "    <tr>\n",
       "      <th>2</th>\n",
       "      <td>2019-08-16</td>\n",
       "      <td>Новости 33; Общество</td>\n",
       "      <td>Жириновский: Мое имя тоже - Владимир. Всё сошл...</td>\n",
       "      <td>Во Владимирском академическом театре драмы про...</td>\n",
       "      <td>1565913600</td>\n",
       "      <td>news33</td>\n",
       "      <td>жириновский; губернатор; сипягин; собрание; лд...</td>\n",
       "      <td>социум</td>\n",
       "    </tr>\n",
       "    <tr>\n",
       "      <th>3</th>\n",
       "      <td>2019-08-16</td>\n",
       "      <td>Новости 33; Общество</td>\n",
       "      <td>Во Владимире трубопровод на улице Герцена убер...</td>\n",
       "      <td>Во Владимире модернизируют тепловую сеть на ул...</td>\n",
       "      <td>1565913600</td>\n",
       "      <td>news33</td>\n",
       "      <td>теплов; составить; сетей; отопительный; м²; ра...</td>\n",
       "      <td>социум</td>\n",
       "    </tr>\n",
       "    <tr>\n",
       "      <th>4</th>\n",
       "      <td>2019-08-16</td>\n",
       "      <td>Новости 33; Общество</td>\n",
       "      <td>Выпускник ВлГУ приблизил эру квантовых компьют...</td>\n",
       "      <td>Выпускник кафедры физики и прикладной математи...</td>\n",
       "      <td>1565913600</td>\n",
       "      <td>news33</td>\n",
       "      <td>скорость; физика; света; поток; полупроводнико...</td>\n",
       "      <td>убийство</td>\n",
       "    </tr>\n",
       "  </tbody>\n",
       "</table>\n",
       "</div>"
      ],
      "text/plain": [
       "             date                       rubric  \\\n",
       "index                                            \n",
       "0      2019-08-17         Новости 33; Общество   \n",
       "1      2019-08-17  Новости 33; Происшествия 33   \n",
       "2      2019-08-16         Новости 33; Общество   \n",
       "3      2019-08-16         Новости 33; Общество   \n",
       "4      2019-08-16         Новости 33; Общество   \n",
       "\n",
       "                                                   title  \\\n",
       "index                                                      \n",
       "0      Прокуратура обнаружила ФАПы-призраки в Суздаль...   \n",
       "1      В Гусь-Хрустальном женщина перевела мошенникам...   \n",
       "2      Жириновский: Мое имя тоже - Владимир. Всё сошл...   \n",
       "3      Во Владимире трубопровод на улице Герцена убер...   \n",
       "4      Выпускник ВлГУ приблизил эру квантовых компьют...   \n",
       "\n",
       "                                                    text       _time  source  \\\n",
       "index                                                                          \n",
       "0      Прокуратура обнаружила, что паспорт региональн...  1566000000  news33   \n",
       "1      Следственный отдел полиции в Гусь-Хрустальном ...  1566000000  news33   \n",
       "2      Во Владимирском академическом театре драмы про...  1565913600  news33   \n",
       "3      Во Владимире модернизируют тепловую сеть на ул...  1565913600  news33   \n",
       "4      Выпускник кафедры физики и прикладной математи...  1565913600  news33   \n",
       "\n",
       "                                                keywords     topic  \n",
       "index                                                               \n",
       "0      фапах; фап; медицинский; пункт; район; деятель...    август  \n",
       "1      женщина; хрустальный; гусь; потерпевший; звони...       дтп  \n",
       "2      жириновский; губернатор; сипягин; собрание; лд...    социум  \n",
       "3      теплов; составить; сетей; отопительный; м²; ра...    социум  \n",
       "4      скорость; физика; света; поток; полупроводнико...  убийство  "
      ]
     },
     "execution_count": 29,
     "metadata": {},
     "output_type": "execute_result"
    }
   ],
   "source": [
    "data = te.set_topics_to_data(data, topics_pred, topics)\n",
    "data.head()"
   ]
  },
  {
   "cell_type": "markdown",
   "id": "6c807084",
   "metadata": {},
   "source": [
    "# Find NE"
   ]
  },
  {
   "cell_type": "code",
   "execution_count": 36,
   "id": "e3b27c4d",
   "metadata": {},
   "outputs": [],
   "source": [
    "data[\"ner\"] = data[\"text\"].apply(nf.finder)"
   ]
  },
  {
   "cell_type": "code",
   "execution_count": 37,
   "id": "4abc7461",
   "metadata": {},
   "outputs": [
    {
     "data": {
      "text/html": [
       "<div>\n",
       "<style scoped>\n",
       "    .dataframe tbody tr th:only-of-type {\n",
       "        vertical-align: middle;\n",
       "    }\n",
       "\n",
       "    .dataframe tbody tr th {\n",
       "        vertical-align: top;\n",
       "    }\n",
       "\n",
       "    .dataframe thead th {\n",
       "        text-align: right;\n",
       "    }\n",
       "</style>\n",
       "<table border=\"1\" class=\"dataframe\">\n",
       "  <thead>\n",
       "    <tr style=\"text-align: right;\">\n",
       "      <th></th>\n",
       "      <th>date</th>\n",
       "      <th>rubric</th>\n",
       "      <th>title</th>\n",
       "      <th>text</th>\n",
       "      <th>_time</th>\n",
       "      <th>source</th>\n",
       "      <th>keywords</th>\n",
       "      <th>topic</th>\n",
       "      <th>ner</th>\n",
       "    </tr>\n",
       "    <tr>\n",
       "      <th>index</th>\n",
       "      <th></th>\n",
       "      <th></th>\n",
       "      <th></th>\n",
       "      <th></th>\n",
       "      <th></th>\n",
       "      <th></th>\n",
       "      <th></th>\n",
       "      <th></th>\n",
       "      <th></th>\n",
       "    </tr>\n",
       "  </thead>\n",
       "  <tbody>\n",
       "    <tr>\n",
       "      <th>0</th>\n",
       "      <td>2019-08-17</td>\n",
       "      <td>Новости 33; Общество</td>\n",
       "      <td>Прокуратура обнаружила ФАПы-призраки в Суздаль...</td>\n",
       "      <td>Прокуратура обнаружила, что паспорт региональн...</td>\n",
       "      <td>1566000000</td>\n",
       "      <td>news33</td>\n",
       "      <td>фапах; фап; медицинский; пункт; район; деятель...</td>\n",
       "      <td>август</td>\n",
       "      <td>суздальский; большое борисово; фапы район; лем...</td>\n",
       "    </tr>\n",
       "    <tr>\n",
       "      <th>1</th>\n",
       "      <td>2019-08-17</td>\n",
       "      <td>Новости 33; Происшествия 33</td>\n",
       "      <td>В Гусь-Хрустальном женщина перевела мошенникам...</td>\n",
       "      <td>Следственный отдел полиции в Гусь-Хрустальном ...</td>\n",
       "      <td>1566000000</td>\n",
       "      <td>news33</td>\n",
       "      <td>женщина; хрустальный; гусь; потерпевший; звони...</td>\n",
       "      <td>дтп</td>\n",
       "      <td>гусь-хрустальный; россия; мо; мвд; вгусе.ру; с...</td>\n",
       "    </tr>\n",
       "    <tr>\n",
       "      <th>2</th>\n",
       "      <td>2019-08-16</td>\n",
       "      <td>Новости 33; Общество</td>\n",
       "      <td>Жириновский: Мое имя тоже - Владимир. Всё сошл...</td>\n",
       "      <td>Во Владимирском академическом театре драмы про...</td>\n",
       "      <td>1565913600</td>\n",
       "      <td>news33</td>\n",
       "      <td>жириновский; губернатор; сипягин; собрание; лд...</td>\n",
       "      <td>социум</td>\n",
       "      <td>владимирская область; россия; цфо; владимирски...</td>\n",
       "    </tr>\n",
       "    <tr>\n",
       "      <th>3</th>\n",
       "      <td>2019-08-16</td>\n",
       "      <td>Новости 33; Общество</td>\n",
       "      <td>Во Владимире трубопровод на улице Герцена убер...</td>\n",
       "      <td>Во Владимире модернизируют тепловую сеть на ул...</td>\n",
       "      <td>1565913600</td>\n",
       "      <td>news33</td>\n",
       "      <td>теплов; составить; сетей; отопительный; м²; ра...</td>\n",
       "      <td>социум</td>\n",
       "      <td>во владимир; герцен; т плюс; владимирская тэц-2</td>\n",
       "    </tr>\n",
       "    <tr>\n",
       "      <th>4</th>\n",
       "      <td>2019-08-16</td>\n",
       "      <td>Новости 33; Общество</td>\n",
       "      <td>Выпускник ВлГУ приблизил эру квантовых компьют...</td>\n",
       "      <td>Выпускник кафедры физики и прикладной математи...</td>\n",
       "      <td>1565913600</td>\n",
       "      <td>news33</td>\n",
       "      <td>скорость; физика; света; поток; полупроводнико...</td>\n",
       "      <td>убийство</td>\n",
       "      <td>влгу; евгений седов</td>\n",
       "    </tr>\n",
       "  </tbody>\n",
       "</table>\n",
       "</div>"
      ],
      "text/plain": [
       "             date                       rubric  \\\n",
       "index                                            \n",
       "0      2019-08-17         Новости 33; Общество   \n",
       "1      2019-08-17  Новости 33; Происшествия 33   \n",
       "2      2019-08-16         Новости 33; Общество   \n",
       "3      2019-08-16         Новости 33; Общество   \n",
       "4      2019-08-16         Новости 33; Общество   \n",
       "\n",
       "                                                   title  \\\n",
       "index                                                      \n",
       "0      Прокуратура обнаружила ФАПы-призраки в Суздаль...   \n",
       "1      В Гусь-Хрустальном женщина перевела мошенникам...   \n",
       "2      Жириновский: Мое имя тоже - Владимир. Всё сошл...   \n",
       "3      Во Владимире трубопровод на улице Герцена убер...   \n",
       "4      Выпускник ВлГУ приблизил эру квантовых компьют...   \n",
       "\n",
       "                                                    text       _time  source  \\\n",
       "index                                                                          \n",
       "0      Прокуратура обнаружила, что паспорт региональн...  1566000000  news33   \n",
       "1      Следственный отдел полиции в Гусь-Хрустальном ...  1566000000  news33   \n",
       "2      Во Владимирском академическом театре драмы про...  1565913600  news33   \n",
       "3      Во Владимире модернизируют тепловую сеть на ул...  1565913600  news33   \n",
       "4      Выпускник кафедры физики и прикладной математи...  1565913600  news33   \n",
       "\n",
       "                                                keywords     topic  \\\n",
       "index                                                                \n",
       "0      фапах; фап; медицинский; пункт; район; деятель...    август   \n",
       "1      женщина; хрустальный; гусь; потерпевший; звони...       дтп   \n",
       "2      жириновский; губернатор; сипягин; собрание; лд...    социум   \n",
       "3      теплов; составить; сетей; отопительный; м²; ра...    социум   \n",
       "4      скорость; физика; света; поток; полупроводнико...  убийство   \n",
       "\n",
       "                                                     ner  \n",
       "index                                                     \n",
       "0      суздальский; большое борисово; фапы район; лем...  \n",
       "1      гусь-хрустальный; россия; мо; мвд; вгусе.ру; с...  \n",
       "2      владимирская область; россия; цфо; владимирски...  \n",
       "3        во владимир; герцен; т плюс; владимирская тэц-2  \n",
       "4                                    влгу; евгений седов  "
      ]
     },
     "execution_count": 37,
     "metadata": {},
     "output_type": "execute_result"
    }
   ],
   "source": [
    "data[\"ner\"] = data[\"ner\"].apply(lambda x: \"; \".join([w.lower() for w in x]))\n",
    "data.head()"
   ]
  },
  {
   "cell_type": "code",
   "execution_count": null,
   "id": "9bf50be6",
   "metadata": {},
   "outputs": [],
   "source": []
  }
 ],
 "metadata": {
  "kernelspec": {
   "display_name": "Python 3",
   "language": "python",
   "name": "python3"
  },
  "language_info": {
   "codemirror_mode": {
    "name": "ipython",
    "version": 3
   },
   "file_extension": ".py",
   "mimetype": "text/x-python",
   "name": "python",
   "nbconvert_exporter": "python",
   "pygments_lexer": "ipython3",
   "version": "3.7.10"
  }
 },
 "nbformat": 4,
 "nbformat_minor": 5
}
